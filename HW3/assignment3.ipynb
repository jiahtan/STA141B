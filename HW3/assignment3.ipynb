{
 "cells": [
  {
   "cell_type": "markdown",
   "metadata": {},
   "source": [
    "# Assignment 3\n",
    "\n",
    "The US Department of Agriculture publishes price estimates for fruits and vegetables [online](https://www.ers.usda.gov/data-products/fruit-and-vegetable-prices/fruit-and-vegetable-prices/). The most recent estimates are based on a 2013 survey of US retail stores.\n",
    "\n",
    "The estimates are provided as a collection of MS Excel files, with one file per fruit or vegetable. The `assignment3_data.zip` file contains the fruit and vegetable files in the directories `fruit` and `vegetables`, respectively."
   ]
  },
  {
   "cell_type": "markdown",
   "metadata": {},
   "source": [
    "__Exercise 1.1.__ Use pandas to extract the \"Fresh\" row(s) from the <strong style=\"color:#B0B\">fruit</strong> Excel files. Combine the data into a single data frame. Your data frame should look something like this:\n",
    "\n",
    "type       | food       | form   | price_per_lb | yield | lb_per_cup | price_per_cup\n",
    "---------- | ---------- | ------ | ------------ | ----- | ---------- | -------------\n",
    "fruit      | watermelon | Fresh1 | 0.333412     | 0.52  | 0.330693   | 0.212033\n",
    "fruit      | cantaloupe | Fresh1 | 0.535874     | 0.51  | 0.374786   | 0.3938\n",
    "vegetables | onions     | Fresh1 | 1.03811      | 0.9   | 0.35274    | 0.406868\n",
    "...        |            |        |              |       |            |\n",
    "\n",
    "\n",
    "It's okay if the rows and columns of your data frame are in a different order. These modules are especially relevant:\n",
    "\n",
    "* [`str` methods](https://docs.python.org/2/library/stdtypes.html#string-methods)\n",
    "* [`os`](https://docs.python.org/2/library/os.html)\n",
    "* [`os.path`](https://docs.python.org/2/library/os.path.html)\n",
    "* [pandas](http://pandas.pydata.org/pandas-docs/stable/): `read_excel()`, `concat()`, `.fillna()`, `.str`, plotting methods\n",
    "\n",
    "Ask questions and search the documentation/web to find the functions you need.\n"
   ]
  },
  {
   "cell_type": "code",
   "execution_count": 7,
   "metadata": {
    "collapsed": false
   },
   "outputs": [],
   "source": [
    "import os\n",
    "import pandas as pd\n",
    "\n",
    "def addToDF(foodType):\n",
    "    \"\"\"\n",
    "    Function to return a list to input into a pandas dataframe.\n",
    "    Input: Type of food, vegetable or fruit\n",
    "    Output: list with all the rows for that food added.\n",
    "    \"\"\"\n",
    "    foodDF = []\n",
    "    foodFolder = os.listdir('./assignment3_data/' + foodType)\n",
    "    for file in foodFolder:    \n",
    "        f = pd.read_excel('./assignment3_data/' + foodType + '/' + file)\n",
    "        food, _ = file.split(\".\")\n",
    "        #Look through each row, see if Fresh1 is in there\n",
    "        for i in range(len(f)):\n",
    "            #If any of the strings contain Fresh1 or Fresh retrieve row\n",
    "            string = str(f.iloc[i,0])\n",
    "            if string.lower().startswith(\"fresh\", 0, len(string)):\n",
    "                goalString = f.iloc[i,:]\n",
    "                foodDF.append([foodType, food, goalString[0], \n",
    "                              goalString[1], goalString[3], \n",
    "                              goalString[4], goalString[6]])\n",
    "\n",
    "    return(foodDF)"
   ]
  },
  {
   "cell_type": "code",
   "execution_count": 8,
   "metadata": {
    "collapsed": false
   },
   "outputs": [],
   "source": [
    "fruitDF = pd.DataFrame(addToDF(\"fruit\"), \n",
    "                       columns=['type','food','form','price_per_lb','yield','lb_per_cup','price_per_cup'])"
   ]
  },
  {
   "cell_type": "markdown",
   "metadata": {},
   "source": [
    "__Exercise 1.2.__ Reuse your code from exercise 1.1 to extract the \"Fresh\" row(s) from the <strong style=\"color:#B0B\">vegetable</strong> Excel files.\n",
    "\n",
    "Does your code produce the correct prices for tomatoes? If not, why not? Do any other files have the same problem as the tomatoes file?\n",
    "\n",
    "You don't need to extract the prices for these problem files. However, make sure the prices are extracted for files like asparagus that don't have this problem."
   ]
  },
  {
   "cell_type": "code",
   "execution_count": 9,
   "metadata": {
    "collapsed": false
   },
   "outputs": [],
   "source": [
    "vegetableDF = pd.DataFrame(addToDF(\"vegetables\"), \n",
    "                           columns=['type','food','form','price_per_lb','yield','lb_per_cup','price_per_cup'])"
   ]
  },
  {
   "cell_type": "markdown",
   "metadata": {},
   "source": [
    "My code does not produce the correct prices for tomatoes, since I only extract the line in which contains the term \"Fresh\" or \"Fresh1\". In the case of tomatoes file, the line with \"Fresh\" does not contain any pricing information, therefore NaN is returned. Other files with same problem as the tomato file is listed below."
   ]
  },
  {
   "cell_type": "code",
   "execution_count": 10,
   "metadata": {
    "collapsed": false
   },
   "outputs": [
    {
     "data": {
      "text/html": [
       "<div>\n",
       "<table border=\"1\" class=\"dataframe\">\n",
       "  <thead>\n",
       "    <tr style=\"text-align: right;\">\n",
       "      <th></th>\n",
       "      <th>type</th>\n",
       "      <th>food</th>\n",
       "      <th>form</th>\n",
       "      <th>price_per_lb</th>\n",
       "      <th>yield</th>\n",
       "      <th>lb_per_cup</th>\n",
       "      <th>price_per_cup</th>\n",
       "    </tr>\n",
       "  </thead>\n",
       "  <tbody>\n",
       "    <tr>\n",
       "      <th>0</th>\n",
       "      <td>vegetables</td>\n",
       "      <td>tomatoes</td>\n",
       "      <td>Fresh</td>\n",
       "      <td>NaN</td>\n",
       "      <td>NaN</td>\n",
       "      <td>NaN</td>\n",
       "      <td>NaN</td>\n",
       "    </tr>\n",
       "    <tr>\n",
       "      <th>2</th>\n",
       "      <td>vegetables</td>\n",
       "      <td>lettuce_romaine</td>\n",
       "      <td>Fresh1</td>\n",
       "      <td></td>\n",
       "      <td>NaN</td>\n",
       "      <td></td>\n",
       "      <td>NaN</td>\n",
       "    </tr>\n",
       "    <tr>\n",
       "      <th>3</th>\n",
       "      <td>vegetables</td>\n",
       "      <td>celery</td>\n",
       "      <td>Fresh1</td>\n",
       "      <td>NaN</td>\n",
       "      <td>NaN</td>\n",
       "      <td>NaN</td>\n",
       "      <td>NaN</td>\n",
       "    </tr>\n",
       "    <tr>\n",
       "      <th>7</th>\n",
       "      <td>vegetables</td>\n",
       "      <td>spinach</td>\n",
       "      <td>Fresh1</td>\n",
       "      <td>NaN</td>\n",
       "      <td>NaN</td>\n",
       "      <td>NaN</td>\n",
       "      <td>NaN</td>\n",
       "    </tr>\n",
       "    <tr>\n",
       "      <th>9</th>\n",
       "      <td>vegetables</td>\n",
       "      <td>broccoli</td>\n",
       "      <td>Fresh</td>\n",
       "      <td></td>\n",
       "      <td></td>\n",
       "      <td></td>\n",
       "      <td>NaN</td>\n",
       "    </tr>\n",
       "    <tr>\n",
       "      <th>11</th>\n",
       "      <td>vegetables</td>\n",
       "      <td>mushrooms</td>\n",
       "      <td>Fresh1</td>\n",
       "      <td>NaN</td>\n",
       "      <td>NaN</td>\n",
       "      <td>NaN</td>\n",
       "      <td>NaN</td>\n",
       "    </tr>\n",
       "    <tr>\n",
       "      <th>13</th>\n",
       "      <td>vegetables</td>\n",
       "      <td>carrots</td>\n",
       "      <td>Fresh</td>\n",
       "      <td>NaN</td>\n",
       "      <td>NaN</td>\n",
       "      <td>NaN</td>\n",
       "      <td>NaN</td>\n",
       "    </tr>\n",
       "    <tr>\n",
       "      <th>26</th>\n",
       "      <td>vegetables</td>\n",
       "      <td>cauliflower</td>\n",
       "      <td>Fresh1</td>\n",
       "      <td></td>\n",
       "      <td></td>\n",
       "      <td></td>\n",
       "      <td>NaN</td>\n",
       "    </tr>\n",
       "  </tbody>\n",
       "</table>\n",
       "</div>"
      ],
      "text/plain": [
       "          type             food    form price_per_lb yield lb_per_cup  \\\n",
       "0   vegetables         tomatoes   Fresh          NaN   NaN        NaN   \n",
       "2   vegetables  lettuce_romaine  Fresh1                NaN              \n",
       "3   vegetables           celery  Fresh1          NaN   NaN        NaN   \n",
       "7   vegetables          spinach  Fresh1          NaN   NaN        NaN   \n",
       "9   vegetables         broccoli  Fresh                                  \n",
       "11  vegetables        mushrooms  Fresh1          NaN   NaN        NaN   \n",
       "13  vegetables          carrots   Fresh          NaN   NaN        NaN   \n",
       "26  vegetables      cauliflower  Fresh1                                 \n",
       "\n",
       "    price_per_cup  \n",
       "0             NaN  \n",
       "2             NaN  \n",
       "3             NaN  \n",
       "7             NaN  \n",
       "9             NaN  \n",
       "11            NaN  \n",
       "13            NaN  \n",
       "26            NaN  "
      ]
     },
     "execution_count": 10,
     "metadata": {},
     "output_type": "execute_result"
    }
   ],
   "source": [
    "vegetableDF.loc[vegetableDF.isnull().any(axis=1)]"
   ]
  },
  {
   "cell_type": "markdown",
   "metadata": {},
   "source": [
    "__Exercise 1.3.__ Remove rows without a price from the vegetable data frame and then combine the fruit and vegetable data frames. Make sure all columns of numbers are numeric (not strings)."
   ]
  },
  {
   "cell_type": "code",
   "execution_count": 11,
   "metadata": {
    "collapsed": false
   },
   "outputs": [
    {
     "data": {
      "text/plain": [
       "type              object\n",
       "food              object\n",
       "form              object\n",
       "price_per_lb     float64\n",
       "yield            float64\n",
       "lb_per_cup       float64\n",
       "price_per_cup    float64\n",
       "dtype: object"
      ]
     },
     "execution_count": 11,
     "metadata": {},
     "output_type": "execute_result"
    }
   ],
   "source": [
    "vegetableDF = vegetableDF.dropna()\n",
    "foodDF = pd.concat([fruitDF.copy(), vegetableDF.copy()], ignore_index = True)\n",
    "foodDF = foodDF[['type','food', 'form', 'price_per_lb', 'yield', 'lb_per_cup', 'price_per_cup']]\n",
    "foodDF.iloc[:,3:7] = foodDF.iloc[:,3:7].apply(pd.to_numeric)\n",
    "foodDF.dtypes"
   ]
  },
  {
   "cell_type": "markdown",
   "metadata": {},
   "source": [
    "__Exercise 1.4.__ Discuss the questions below (a paragraph each is sufficient). Use plots to support your ideas.\n",
    "\n",
    "* What kinds of fruits are the most expensive (per pound)? What kinds are the least expensive?\n",
    "* How do the price distributions compare for fruit and vegetables?\n",
    "* Which foods are the best value for the price?\n",
    "* What's something surprising about this data set?\n",
    "* Which foods do you expect to provide the best combination of price, yield, and nutrition? A future assignment may combine this data set with another so you can check your hypothesis."
   ]
  },
  {
   "cell_type": "markdown",
   "metadata": {},
   "source": [
    "#### What kinds of fruits are the most expensive (per pound)? What kinds are the least expensive?"
   ]
  },
  {
   "cell_type": "code",
   "execution_count": 12,
   "metadata": {
    "collapsed": false
   },
   "outputs": [
    {
     "name": "stdout",
     "output_type": "stream",
     "text": [
      "Most expensive fruit (per pound) is watermelon, valuing at 6.98. \n",
      "Least expensve fruit (per pound) is apples, valueing at 0.33.\n"
     ]
    }
   ],
   "source": [
    "from matplotlib import pyplot as plt\n",
    "import matplotlib\n",
    "matplotlib.style.use(\"ggplot\")\n",
    "import numpy as np\n",
    "df = foodDF.loc[foodDF['type'] == 'fruit'].ix[:,['food', 'price_per_lb',]]\n",
    "print(\"\"\"Most expensive fruit (per pound) is %s, valuing at %.2f. \n",
    "Least expensve fruit (per pound) is %s, valueing at %.2f.\"\"\" % \n",
    "      (df.max()[0], df.max()[1], df.min()[0], df.min()[1]))"
   ]
  },
  {
   "cell_type": "markdown",
   "metadata": {},
   "source": [
    "#### How do the price distributions compare for fruit and vegetables?"
   ]
  },
  {
   "cell_type": "code",
   "execution_count": 13,
   "metadata": {
    "collapsed": false
   },
   "outputs": [
    {
     "data": {
      "image/png": "[encoded data removed]",
      "text/plain": [
       "<matplotlib.figure.Figure at 0x7f61840cff50>"
      ]
     },
     "metadata": {},
     "output_type": "display_data"
    },
    {
     "name": "stdout",
     "output_type": "stream",
     "text": [
      "<ggplot: (8753550249813)>\n"
     ]
    },
    {
     "data": {
      "image/png": "[encoded data removed]",
      "text/plain": [
       "<matplotlib.figure.Figure at 0x7f61795e3590>"
      ]
     },
     "metadata": {},
     "output_type": "display_data"
    },
    {
     "name": "stdout",
     "output_type": "stream",
     "text": [
      "<ggplot: (8753539048429)>\n"
     ]
    }
   ],
   "source": [
    "from ggplot import *\n",
    "df = foodDF.ix[:,[\"type\",\"price_per_lb\",\"price_per_cup\"]]\n",
    "print(ggplot(df, aes(x = \"price_per_lb\", color = \"type\")) + geom_density() + theme(plot_margin = dict(right = .5, top=.5)))\n",
    "print(ggplot(df, aes(x = \"price_per_cup\", color = \"type\")) + geom_density() + theme(plot_margin = dict(right = .5, top=.5)))"
   ]
  },
  {
   "cell_type": "markdown",
   "metadata": {},
   "source": [
    "There is more variance in the price of fruit than the price of vegetables per lb.\n",
    "Price of vegetables per lb follows a slight bimodal distribution compare to price of fruit per lb.\n",
    "Price of fruit per lb has a heavy left tail. For price of fruit and vegetables per cup, they follow a similar distribution."
   ]
  },
  {
   "cell_type": "markdown",
   "metadata": {},
   "source": [
    "#### Which foods are the best value for the price?"
   ]
  },
  {
   "cell_type": "markdown",
   "metadata": {},
   "source": [
    "Preparation yield factor is a method for calculating nutrient within food depending on the type of food prep. It also tells how much you will have of a finished or processed product. Food that give the best price for value should maxmize yield and minimize cost. "
   ]
  },
  {
   "cell_type": "code",
   "execution_count": 14,
   "metadata": {
    "collapsed": false
   },
   "outputs": [
    {
     "data": {
      "text/plain": [
       "food                 watermelon\n",
       "yield price ratio       1.55963\n",
       "dtype: object"
      ]
     },
     "execution_count": 14,
     "metadata": {},
     "output_type": "execute_result"
    }
   ],
   "source": [
    "df = foodDF.ix[:,[\"type\",\"price_per_lb\",\"yield\",\"food\"]]\n",
    "tmp = pd.concat([df[\"food\"], df[\"yield\"]/df[\"price_per_lb\"]], axis = 1, keys= [\"food\", \"yield price ratio\"])\n",
    "tmp.max()"
   ]
  },
  {
   "cell_type": "markdown",
   "metadata": {},
   "source": [
    "Ratio of yield over price is highest for watermelon, making it the food that gives best price for value."
   ]
  },
  {
   "cell_type": "markdown",
   "metadata": {},
   "source": [
    "#### What's something surprising about this data set?"
   ]
  },
  {
   "cell_type": "markdown",
   "metadata": {},
   "source": [
    "One suprising thing about this dataframe is that price_per_cup is not a product of price_per_lb and lb_per_cup. So the numbers aren't derived from the other columns. Also, we expect yield to be a percentage, but some values are greater than 1. I am not sure if that's a calculation error or something else."
   ]
  },
  {
   "cell_type": "markdown",
   "metadata": {},
   "source": [
    "#### Which foods do you expect to provide the best combination of price, yield, and nutrition? A future assignment may combine this data set with another so you can check your hypothesis."
   ]
  },
  {
   "cell_type": "markdown",
   "metadata": {
    "collapsed": false
   },
   "source": [
    "Yield can be representative of nutrition. So the food that provide the best combination of price, yield, and nutrition should be that minimize price, maxmize yield. Looking at the actual excel file, it seem that price_per_cup will give us a measure that utilizes price_per_lb, yield, and lb_per_cup. So the minimum of this should provide us the best combination. Specifically the formula is: \n",
    "\n",
    "price_per_cup = price_per_lb*lb_per_cup/yield"
   ]
  },
  {
   "cell_type": "code",
   "execution_count": 15,
   "metadata": {
    "collapsed": false
   },
   "outputs": [
    {
     "name": "stdout",
     "output_type": "stream",
     "text": [
      "food             acorn_squash\n",
      "price_per_cup        0.184017\n",
      "dtype: object\n"
     ]
    }
   ],
   "source": [
    "print(foodDF[[\"food\", \"price_per_cup\"]].min())"
   ]
  },
  {
   "cell_type": "markdown",
   "metadata": {},
   "source": [
    "Base off the way price_per_cup is formulated, I believe acorn_squash provides the best combination of price, yield, and nutrition."
   ]
  }
 ],
 "metadata": {
  "anaconda-cloud": {},
  "kernelspec": {
   "display_name": "Python [default]",
   "language": "python",
   "name": "python2"
  },
  "language_info": {
   "codemirror_mode": {
    "name": "ipython",
    "version": 2
   },
   "file_extension": ".py",
   "mimetype": "text/x-python",
   "name": "python",
   "nbconvert_exporter": "python",
   "pygments_lexer": "ipython2",
   "version": "2.7.12"
  }
 },
 "nbformat": 4,
 "nbformat_minor": 2
}
