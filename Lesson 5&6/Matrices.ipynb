{
 "cells": [
  {
   "cell_type": "markdown",
   "metadata": {},
   "source": [
    "<h1>Getting Started with Matrices</h1>\n",
    "\n",
    "Let's import a matrix from the provided file.  It can be found at https://archive.ics.uci.edu/ml/datasets/seeds"
   ]
  },
  {
   "cell_type": "code",
   "execution_count": 3,
   "metadata": {
    "collapsed": false,
    "scrolled": true
   },
   "outputs": [],
   "source": [
    "import numpy as np\n",
    "seeds = np.loadtxt(\"seeds_dataset.txt\",dtype=np.float64)"
   ]
  },
  {
   "cell_type": "markdown",
   "metadata": {},
   "source": [
    "Column meanings for the seeds dataset\n",
    "1. area A, \n",
    "2. perimeter P, \n",
    "3. compactness C = 4*pi*A/P^2, \n",
    "4. length of kernel, \n",
    "5. width of kernel, \n",
    "6. asymmetry coefficient \n",
    "7. length of kernel groove. "
   ]
  },
  {
   "cell_type": "code",
   "execution_count": 5,
   "metadata": {
    "collapsed": false
   },
   "outputs": [
    {
     "name": "stdout",
     "output_type": "stream",
     "text": [
      "[[ 14.88    14.57     0.8811   5.554    3.333    1.018    4.956    1.    ]\n",
      " [ 14.29    14.09     0.905    5.291    3.337    2.699    4.825    1.    ]\n",
      " [ 13.84    13.94     0.8955   5.324    3.379    2.259    4.805    1.    ]\n",
      " [ 16.14    14.99     0.9034   5.658    3.562    1.355    5.175    1.    ]\n",
      " [ 14.38    14.21     0.8951   5.386    3.312    2.462    4.956    1.    ]\n",
      " [ 14.69    14.49     0.8799   5.563    3.259    3.586    5.219    1.    ]\n",
      " [ 14.11    14.1      0.8911   5.42     3.302    2.7      5.       1.    ]\n",
      " [ 16.63    15.46     0.8747   6.053    3.465    2.04     5.877    1.    ]\n",
      " [ 16.44    15.25     0.888    5.884    3.505    1.969    5.533    1.    ]]\n"
     ]
    }
   ],
   "source": [
    "print seeds[1:10,:]"
   ]
  },
  {
   "cell_type": "markdown",
   "metadata": {},
   "source": [
    "Attributes for matrices, try tab completion to see available methods"
   ]
  },
  {
   "cell_type": "code",
   "execution_count": 53,
   "metadata": {
    "collapsed": false
   },
   "outputs": [
    {
     "name": "stdout",
     "output_type": "stream",
     "text": [
      "<type 'numpy.ndarray'>\n",
      "2\n",
      "(210L, 8L)\n",
      "1680\n",
      "float64\n"
     ]
    }
   ],
   "source": [
    "print type(seeds)\n",
    "print seeds.ndim\n",
    "print seeds.shape\n",
    "print seeds.size\n",
    "print seeds.dtype"
   ]
  },
  {
   "cell_type": "code",
   "execution_count": 7,
   "metadata": {
    "collapsed": true
   },
   "outputs": [],
   "source": [
    "n,p = seeds.shape #Remember tuple unpacking!"
   ]
  },
  {
   "cell_type": "markdown",
   "metadata": {},
   "source": [
    "Let's initialize another array with a list"
   ]
  },
  {
   "cell_type": "code",
   "execution_count": 13,
   "metadata": {
    "collapsed": false
   },
   "outputs": [
    {
     "name": "stdout",
     "output_type": "stream",
     "text": [
      "float64\n",
      "(210,)\n",
      "[ 1.  1.  1.  1.  1.  1.  1.  1.  1.  1.  1.  1.  1.  1.  1.  1.  1.  1.\n",
      "  1.  1.  1.  1.  1.  1.  1.  1.  1.  1.  1.  1.  1.  1.  1.  1.  1.  1.\n",
      "  1.  1.  1.  1.  1.  1.  1.  1.  1.  1.  1.  1.  1.  1.  1.  1.  1.  1.\n",
      "  1.  1.  1.  1.  1.  1.  1.  1.  1.  1.  1.  1.  1.  1.  1.  1.  1.  1.\n",
      "  1.  1.  1.  1.  1.  1.  1.  1.  1.  1.  1.  1.  1.  1.  1.  1.  1.  1.\n",
      "  1.  1.  1.  1.  1.  1.  1.  1.  1.  1.  1.  1.  1.  1.  1.  1.  1.  1.\n",
      "  1.  1.  1.  1.  1.  1.  1.  1.  1.  1.  1.  1.  1.  1.  1.  1.  1.  1.\n",
      "  1.  1.  1.  1.  1.  1.  1.  1.  1.  1.  1.  1.  1.  1.  1.  1.  1.  1.\n",
      "  1.  1.  1.  1.  1.  1.  1.  1.  1.  1.  1.  1.  1.  1.  1.  1.  1.  1.\n",
      "  1.  1.  1.  1.  1.  1.  1.  1.  1.  1.  1.  1.  1.  1.  1.  1.  1.  1.\n",
      "  1.  1.  1.  1.  1.  1.  1.  1.  1.  1.  1.  1.  1.  1.  1.  1.  1.  1.\n",
      "  1.  1.  1.  1.  1.  1.  1.  1.  1.  1.  1.  1.]\n"
     ]
    }
   ],
   "source": [
    "onelist = [1.0]*n\n",
    "onevec = np.array(onelist)\n",
    "print onevec.dtype\n",
    "print onevec.shape\n",
    "print onevec"
   ]
  },
  {
   "cell_type": "markdown",
   "metadata": {},
   "source": [
    "We can transpose really easily..."
   ]
  },
  {
   "cell_type": "code",
   "execution_count": 60,
   "metadata": {
    "collapsed": false
   },
   "outputs": [
    {
     "name": "stdout",
     "output_type": "stream",
     "text": [
      "(8L, 210L)\n",
      "[[ 15.26    14.88    14.29   ...,  13.2     11.84    12.3   ]\n",
      " [ 14.84    14.57    14.09   ...,  13.66    13.21    13.34  ]\n",
      " [  0.871    0.8811   0.905  ...,   0.8883   0.8521   0.8684]\n",
      " ..., \n",
      " [  2.221    1.018    2.699  ...,   8.315    3.598    5.637 ]\n",
      " [  5.22     4.956    4.825  ...,   5.056    5.044    5.063 ]\n",
      " [  1.       1.       1.     ...,   3.       3.       3.    ]]\n"
     ]
    }
   ],
   "source": [
    "print seeds.T.shape\n",
    "print seeds.T"
   ]
  },
  {
   "cell_type": "markdown",
   "metadata": {},
   "source": [
    "What should happen if we do the following?"
   ]
  },
  {
   "cell_type": "code",
   "execution_count": 65,
   "metadata": {
    "collapsed": false
   },
   "outputs": [
    {
     "name": "stdout",
     "output_type": "stream",
     "text": [
      "[ 3117.98    3057.45     182.9097  1181.992    684.307    777.0422\n",
      "  1135.695    420.    ]\n",
      "[ 3117.98    3057.45     182.9097  1181.992    684.307    777.0422\n",
      "  1135.695    420.    ]\n"
     ]
    }
   ],
   "source": [
    "print seeds.T.dot(onevec)\n",
    "print np.sum(seeds,axis=0)"
   ]
  },
  {
   "cell_type": "code",
   "execution_count": 15,
   "metadata": {
    "collapsed": false
   },
   "outputs": [
    {
     "data": {
      "text/plain": [
       "[0.0, 0.0, 0.0, 0.0, 0.0, 0.0, 0.0, 0.0]"
      ]
     },
     "execution_count": 15,
     "metadata": {},
     "output_type": "execute_result"
    }
   ],
   "source": [
    "output = [0.]*p\n",
    "output"
   ]
  },
  {
   "cell_type": "markdown",
   "metadata": {},
   "source": [
    "Let's think about a way to do this without numpy..."
   ]
  },
  {
   "cell_type": "code",
   "execution_count": 43,
   "metadata": {
    "collapsed": true
   },
   "outputs": [],
   "source": [
    "def mult_ones(seeds):\n",
    "    output = [0.]*p\n",
    "    for row in seeds: #arrays are iterable and return the rows\n",
    "        for i in range(p):\n",
    "            output[i] += row[i]\n",
    "    return output"
   ]
  },
  {
   "cell_type": "code",
   "execution_count": 48,
   "metadata": {
    "collapsed": false
   },
   "outputs": [
    {
     "name": "stdout",
     "output_type": "stream",
     "text": [
      "1000 loops, best of 3: 544 µs per loop\n",
      "[3117.9800000000014, 3057.4500000000007, 182.90969999999999, 1181.9920000000004, 684.30700000000002, 777.04219999999987, 1135.6949999999999, 420.0]\n"
     ]
    }
   ],
   "source": [
    "%timeit output = mult_ones(seeds)\n",
    "print output"
   ]
  },
  {
   "cell_type": "code",
   "execution_count": 49,
   "metadata": {
    "collapsed": false
   },
   "outputs": [
    {
     "name": "stdout",
     "output_type": "stream",
     "text": [
      "The slowest run took 22.59 times longer than the fastest. This could mean that an intermediate result is being cached.\n",
      "100000 loops, best of 3: 1.85 µs per loop\n"
     ]
    }
   ],
   "source": [
    "%timeit seeds.T.dot(onevec)"
   ]
  },
  {
   "cell_type": "markdown",
   "metadata": {},
   "source": [
    "This is quite a bit faster!"
   ]
  },
  {
   "cell_type": "markdown",
   "metadata": {},
   "source": [
    "<h1>Matrix Slicing</h1>"
   ]
  },
  {
   "cell_type": "code",
   "execution_count": 112,
   "metadata": {
    "collapsed": false
   },
   "outputs": [
    {
     "name": "stdout",
     "output_type": "stream",
     "text": [
      "(210L, 8L)\n",
      "[ 15.26   14.84    0.871 ...,   5.637   5.063   3.   ]\n",
      "[[ 15.26    14.84     0.871  ...,   2.221    5.22     1.    ]\n",
      " [ 14.88    14.57     0.8811 ...,   1.018    4.956    1.    ]\n",
      " [ 14.29    14.09     0.905  ...,   2.699    4.825    1.    ]\n",
      " ..., \n",
      " [ 13.2     13.66     0.8883 ...,   8.315    5.056    3.    ]\n",
      " [ 11.84    13.21     0.8521 ...,   3.598    5.044    3.    ]\n",
      " [ 12.3     13.34     0.8684 ...,   5.637    5.063    3.    ]]\n"
     ]
    }
   ],
   "source": [
    "print seeds.shape\n",
    "seeds.shape = (n*p) #oops!\n",
    "print seeds\n",
    "seeds = seeds.reshape((n,p))\n",
    "print seeds"
   ]
  },
  {
   "cell_type": "code",
   "execution_count": 116,
   "metadata": {
    "collapsed": false
   },
   "outputs": [
    {
     "name": "stdout",
     "output_type": "stream",
     "text": [
      "(210L, 5L)\n"
     ]
    },
    {
     "data": {
      "text/plain": [
       "[3, 4, 5, 6, 7, 8, 9]"
      ]
     },
     "execution_count": 116,
     "metadata": {},
     "output_type": "execute_result"
    }
   ],
   "source": [
    "print seeds[10:20,:]\n",
    "print seeds[:,0:4]\n",
    "print seeds[10:20,0:4]\n",
    "\n",
    "print seeds[:,3:8].shape\n",
    "range(20)[3:10]"
   ]
  },
  {
   "cell_type": "code",
   "execution_count": 117,
   "metadata": {
    "collapsed": false
   },
   "outputs": [
    {
     "name": "stdout",
     "output_type": "stream",
     "text": [
      "10557.3759\n",
      "6.28415232143\n",
      "0.7651\n",
      "21.18\n"
     ]
    }
   ],
   "source": [
    "print seeds.sum()\n",
    "print seeds.mean()\n",
    "print seeds.min()\n",
    "print seeds.max()"
   ]
  },
  {
   "cell_type": "code",
   "execution_count": 119,
   "metadata": {
    "collapsed": false
   },
   "outputs": [
    {
     "name": "stdout",
     "output_type": "stream",
     "text": [
      "[ 0  1  2  3  4  5  6  7  8  9 10 11 12 13 14 15 16 17 18 19]\n"
     ]
    },
    {
     "data": {
      "text/plain": [
       "9.5"
      ]
     },
     "execution_count": 119,
     "metadata": {},
     "output_type": "execute_result"
    }
   ],
   "source": [
    "ran = np.arange(20)\n",
    "print ran\n",
    "ran.mean()"
   ]
  },
  {
   "cell_type": "code",
   "execution_count": 91,
   "metadata": {
    "collapsed": false
   },
   "outputs": [
    {
     "name": "stdout",
     "output_type": "stream",
     "text": [
      "[ 3117.98    3057.45     182.9097  1181.992    684.307    777.0422\n",
      "  1135.695    420.    ]\n",
      "[ 14.84752381  14.55928571   0.87099857   5.62853333   3.25860476\n",
      "   3.70020095   5.40807143   2.        ]\n",
      "[ 10.59    12.41     0.8081   4.899    2.63     0.7651   4.519    1.    ]\n",
      "[ 21.18    17.25     0.9183   6.675    4.033    8.456    6.55     3.    ]\n"
     ]
    }
   ],
   "source": [
    "print seeds.sum(axis=0)\n",
    "print seeds.mean(axis=0)\n",
    "print seeds.min(axis=0)\n",
    "print seeds.max(axis=0)"
   ]
  },
  {
   "cell_type": "code",
   "execution_count": 120,
   "metadata": {
    "collapsed": false
   },
   "outputs": [
    {
     "name": "stdout",
     "output_type": "stream",
     "text": [
      "[[  1.52600000e+01   1.48400000e+01   8.71000000e-01 ...,   2.22100000e+00\n",
      "    5.22000000e+00   1.00000000e+00]\n",
      " [  3.01400000e+01   2.94100000e+01   1.75210000e+00 ...,   3.23900000e+00\n",
      "    1.01760000e+01   2.00000000e+00]\n",
      " [  4.44300000e+01   4.35000000e+01   2.65710000e+00 ...,   5.93800000e+00\n",
      "    1.50010000e+01   3.00000000e+00]\n",
      " ..., \n",
      " [  3.09384000e+03   3.03090000e+03   1.81189200e+02 ...,   7.67807200e+02\n",
      "    1.12558800e+03   4.14000000e+02]\n",
      " [  3.10568000e+03   3.04411000e+03   1.82041300e+02 ...,   7.71405200e+02\n",
      "    1.13063200e+03   4.17000000e+02]\n",
      " [  3.11798000e+03   3.05745000e+03   1.82909700e+02 ...,   7.77042200e+02\n",
      "    1.13569500e+03   4.20000000e+02]]\n"
     ]
    }
   ],
   "source": [
    "print seeds.cumsum(axis=0) #really handy!"
   ]
  },
  {
   "cell_type": "code",
   "execution_count": 121,
   "metadata": {
    "collapsed": false
   },
   "outputs": [
    {
     "name": "stdout",
     "output_type": "stream",
     "text": [
      "[[ 14.29  14.09]\n",
      " [ 15.69  14.75]\n",
      " [ 18.98  16.57]]\n",
      "[False False False False False False False False False False False False\n",
      " False False False False False False False False False False False False\n",
      " False False False False False False False False False False False False\n",
      " False False False False False False False False False False False False\n",
      " False False False False False False False False False False False False\n",
      " False False False False False False False False False False False False\n",
      " False False False False False  True False False False False  True False\n",
      " False False False False  True  True  True False False False False False\n",
      " False False False False False False False False False False False False\n",
      " False False False False False False  True False False False False  True\n",
      "  True False False False False False False False  True False False False\n",
      " False False False False False False False False False False False False\n",
      " False False False False False False False False False False False False\n",
      " False False False False False False False False False False False False\n",
      " False False False False False False False False False False False False\n",
      " False False False False False False False False False False False False\n",
      " False False False False False False False False False False False False\n",
      " False False False False False False]\n",
      "[[ 20.71    17.23     0.8763   6.579    3.814    4.451    6.451    2.    ]\n",
      " [ 20.2     16.89     0.8894   6.285    3.864    5.173    6.187    2.    ]\n",
      " [ 21.18    17.21     0.8989   6.573    4.033    5.78     6.231    2.    ]\n",
      " [ 20.88    17.05     0.9031   6.45     4.032    5.016    6.321    2.    ]\n",
      " [ 20.1     16.99     0.8746   6.581    3.785    1.955    6.449    2.    ]\n",
      " [ 20.97    17.25     0.8859   6.563    3.991    4.677    6.316    2.    ]\n",
      " [ 20.03    16.9      0.8811   6.493    3.857    3.063    6.32     2.    ]\n",
      " [ 20.24    16.91     0.8897   6.315    3.962    5.901    6.188    2.    ]\n",
      " [ 20.16    17.03     0.8735   6.513    3.773    1.91     6.185    2.    ]]\n"
     ]
    }
   ],
   "source": [
    "myrows = [2,17,97]\n",
    "print seeds[myrows,0:2]\n",
    "rowslarge = seeds[:,0]>20\n",
    "print rowslarge\n",
    "print seeds[rowslarge,:]"
   ]
  },
  {
   "cell_type": "markdown",
   "metadata": {},
   "source": [
    "<h1>Matrix operations</h1>"
   ]
  },
  {
   "cell_type": "code",
   "execution_count": 37,
   "metadata": {
    "collapsed": false
   },
   "outputs": [
    {
     "name": "stdout",
     "output_type": "stream",
     "text": [
      "[[ 14.88    14.57     0.8811   5.554    3.333    1.018    4.956    1.    ]\n",
      " [ 14.29    14.09     0.905    5.291    3.337    2.699    4.825    1.    ]\n",
      " [ 13.84    13.94     0.8955   5.324    3.379    2.259    4.805    1.    ]\n",
      " [ 16.14    14.99     0.9034   5.658    3.562    1.355    5.175    1.    ]\n",
      " [ 14.38    14.21     0.8951   5.386    3.312    2.462    4.956    1.    ]\n",
      " [ 14.69    14.49     0.8799   5.563    3.259    3.586    5.219    1.    ]\n",
      " [ 14.11    14.1      0.8911   5.42     3.302    2.7      5.       1.    ]\n",
      " [ 16.63    15.46     0.8747   6.053    3.465    2.04     5.877    1.    ]\n",
      " [ 16.44    15.25     0.888    5.884    3.505    1.969    5.533    1.    ]]\n",
      "[[ 14.88    14.57     0.8811   5.554    3.333    1.018    4.956 ]\n",
      " [ 14.29    14.09     0.905    5.291    3.337    2.699    4.825 ]\n",
      " [ 13.84    13.94     0.8955   5.324    3.379    2.259    4.805 ]\n",
      " [ 16.14    14.99     0.9034   5.658    3.562    1.355    5.175 ]\n",
      " [ 14.38    14.21     0.8951   5.386    3.312    2.462    4.956 ]\n",
      " [ 14.69    14.49     0.8799   5.563    3.259    3.586    5.219 ]\n",
      " [ 14.11    14.1      0.8911   5.42     3.302    2.7      5.    ]\n",
      " [ 16.63    15.46     0.8747   6.053    3.465    2.04     5.877 ]\n",
      " [ 16.44    15.25     0.888    5.884    3.505    1.969    5.533 ]]\n",
      "[[ 14.57     0.8811   5.554    3.333    1.018    4.956    1.    ]\n",
      " [ 14.09     0.905    5.291    3.337    2.699    4.825    1.    ]\n",
      " [ 13.94     0.8955   5.324    3.379    2.259    4.805    1.    ]\n",
      " [ 14.99     0.9034   5.658    3.562    1.355    5.175    1.    ]\n",
      " [ 14.21     0.8951   5.386    3.312    2.462    4.956    1.    ]\n",
      " [ 14.49     0.8799   5.563    3.259    3.586    5.219    1.    ]\n",
      " [ 14.1      0.8911   5.42     3.302    2.7      5.       1.    ]\n",
      " [ 15.46     0.8747   6.053    3.465    2.04     5.877    1.    ]\n",
      " [ 15.25     0.888    5.884    3.505    1.969    5.533    1.    ]]\n"
     ]
    }
   ],
   "source": [
    "decseeds = seeds/10.0 \n",
    "print decseeds\n",
    "mulseeds = 15*seeds - 1.\n",
    "print seeds[:,0:-1] - seeds[:,1:]"
   ]
  },
  {
   "cell_type": "code",
   "execution_count": 158,
   "metadata": {
    "collapsed": false
   },
   "outputs": [
    {
     "name": "stdout",
     "output_type": "stream",
     "text": [
      "[[ 0.42264993  0.39474114 -2.4406984  ..., -1.50462755 -0.65008769\n",
      "  -2.30258509]\n",
      " [ 0.39743294  0.37637953 -2.42916925 ..., -2.28474517 -0.70198613\n",
      "  -2.30258509]\n",
      " [ 0.3569749   0.34288023 -2.40240543 ..., -1.30970376 -0.72877436\n",
      "  -2.30258509]\n",
      " ..., \n",
      " [ 0.27763174  0.31188676 -2.42103085 ..., -0.18452398 -0.68200944\n",
      "  -1.2039728 ]\n",
      " [ 0.16889854  0.27838903 -2.46263648 ..., -1.02220696 -0.68438567\n",
      "  -1.2039728 ]\n",
      " [ 0.20701417  0.28818195 -2.44368793 ..., -0.57323308 -0.6806259\n",
      "  -1.2039728 ]]\n",
      "[[ 4.59974101  4.41055265  1.09100577 ...,  1.24869624  1.68539507\n",
      "   1.10517092]\n",
      " [ 4.4282302   4.29306101  1.09210825 ...,  1.10716202  1.64148283\n",
      "   1.10517092]\n",
      " [ 4.17452258  4.0918615   1.09472151 ...,  1.30983346  1.62011964\n",
      "   1.10517092]\n",
      " ..., \n",
      " [ 3.74342138  3.91964073  1.09289485 ...,  2.2967613   1.65798001\n",
      "   1.34985881]\n",
      " [ 3.26741777  3.74716667  1.08894572 ...,  1.43304278  1.65599163\n",
      "   1.34985881]\n",
      " [ 3.42122954  3.79619785  1.09072215 ...,  1.75716199  1.659141\n",
      "   1.34985881]]\n",
      "[[ 1.23531373  1.21819539  0.29512709 ...,  0.47127487  0.72249567\n",
      "   0.31622777]\n",
      " [ 1.21983605  1.20706255  0.29683329 ...,  0.31906112  0.70398864\n",
      "   0.31622777]\n",
      " [ 1.19540788  1.18701306  0.30083218 ...,  0.51951901  0.6946222\n",
      "   0.31622777]\n",
      " ..., \n",
      " [ 1.14891253  1.16876003  0.29804362 ...,  0.91186622  0.71105555\n",
      "   0.54772256]\n",
      " [ 1.08811764  1.14934764  0.29190752 ...,  0.59983331  0.71021124\n",
      "   0.54772256]\n",
      " [ 1.10905365  1.15498918  0.29468627 ...,  0.75079957  0.71154761\n",
      "   0.54772256]]\n"
     ]
    }
   ],
   "source": [
    "print np.log(decseeds)\n",
    "print np.exp(decseeds)\n",
    "print np.sqrt(decseeds)"
   ]
  },
  {
   "cell_type": "code",
   "execution_count": 159,
   "metadata": {
    "collapsed": false
   },
   "outputs": [
    {
     "name": "stdout",
     "output_type": "stream",
     "text": [
      "[[  4.12476190e-01   2.80714286e-01   1.42857143e-06 ...,  -1.47920095e+00\n",
      "   -1.88071429e-01  -1.00000000e+00]\n",
      " [  3.24761905e-02   1.07142857e-02   1.01014286e-02 ...,  -2.68220095e+00\n",
      "   -4.52071429e-01  -1.00000000e+00]\n",
      " [ -5.57523810e-01  -4.69285714e-01   3.40014286e-02 ...,  -1.00120095e+00\n",
      "   -5.83071429e-01  -1.00000000e+00]\n",
      " ..., \n",
      " [ -1.64752381e+00  -8.99285714e-01   1.73014286e-02 ...,   4.61479905e+00\n",
      "   -3.52071429e-01   1.00000000e+00]\n",
      " [ -3.00752381e+00  -1.34928571e+00  -1.88985714e-02 ...,  -1.02200952e-01\n",
      "   -3.64071429e-01   1.00000000e+00]\n",
      " [ -2.54752381e+00  -1.21928571e+00  -2.59857143e-03 ...,   1.93679905e+00\n",
      "   -3.45071429e-01   1.00000000e+00]]\n",
      "[[  8.42603482e+00   3.76045061e+00   4.16234107e-02   1.21887175e+00\n",
      "    1.06183083e+00  -9.99573198e-01   1.22925132e+00  -8.20190476e-01]\n",
      " [  3.76045061e+00   1.69740663e+00   1.62541799e-02   5.59986190e-01\n",
      "    4.63845575e-01  -4.24733761e-01   5.69029908e-01  -3.48809524e-01]\n",
      " [  4.16234107e-02   1.62541799e-02   5.55690522e-04   3.83348362e-03\n",
      "    6.76534896e-03  -1.17204773e-02   2.62166296e-03  -1.02204762e-02]\n",
      " [  1.21887175e+00   5.59986190e-01   3.83348362e-03   1.95370458e-01\n",
      "    1.43306035e-01  -1.13745719e-01   2.02157848e-01  -9.28476190e-02]\n",
      " [  1.06183083e+00   4.63845575e-01   6.76534896e-03   1.43306035e-01\n",
      "    1.41988830e-01  -1.45845066e-01   1.38406000e-01  -1.30285714e-01]\n",
      " [ -9.99573198e-01  -4.24733761e-01  -1.17204773e-02  -1.13745719e-01\n",
      "   -1.45845066e-01   2.24991888e+00  -8.14806626e-03   7.06999048e-01]\n",
      " [  1.22925132e+00   5.69029908e-01   2.62166296e-03   2.02157848e-01\n",
      "    1.38406000e-01  -8.14806626e-03   2.40402828e-01   9.72857143e-03]\n",
      " [ -8.20190476e-01  -3.48809524e-01  -1.02204762e-02  -9.28476190e-02\n",
      "   -1.30285714e-01   7.06999048e-01   9.72857143e-03   6.66666667e-01]]\n"
     ]
    }
   ],
   "source": [
    "seedcentered = seeds - seeds.mean(axis=0)\n",
    "print seedcentered\n",
    "seedcov = seedcentered.T.dot(seedcentered) / n\n",
    "print seedcov"
   ]
  },
  {
   "cell_type": "code",
   "execution_count": 160,
   "metadata": {
    "collapsed": false
   },
   "outputs": [
    {
     "name": "stdout",
     "output_type": "stream",
     "text": [
      "13.6183448104\n",
      "(array([  1.08364768e+01,   2.31997067e+00,   3.95063452e-01,\n",
      "         5.42424532e-02,   8.45141665e-03,   2.64188341e-03,\n",
      "         1.47287013e-03,   2.52487858e-05]), array([[  8.79582631e-01,  -1.26116017e-01,   1.08610184e-03,\n",
      "         -3.03317473e-01,  -1.38879757e-01,  -1.52061885e-01,\n",
      "          2.74204862e-01,   2.87709147e-02],\n",
      "       [  3.93152050e-01,  -6.88744128e-02,  -3.78014389e-02,\n",
      "          3.68106006e-01,   5.50519006e-01,   5.58355464e-01,\n",
      "         -2.89509008e-01,  -7.14796114e-02],\n",
      "       [  4.34850558e-03,   3.19106495e-03,   1.10692713e-02,\n",
      "         -6.22063083e-02,  -6.73806848e-02,  -3.86618542e-02,\n",
      "         -3.25631128e-02,  -9.94426218e-01],\n",
      "       [  1.27612344e-01,  -3.59319716e-02,  -5.20419510e-02,\n",
      "          4.78550309e-01,   2.85063369e-01,  -7.95326618e-01,\n",
      "         -1.91705751e-01,  -1.21890190e-02],\n",
      "       [  1.10732226e-01,  -3.08242317e-03,   5.79051315e-02,\n",
      "         -3.33897486e-01,  -2.50826296e-01,  -6.20307997e-02,\n",
      "         -8.95055892e-01,   7.07222508e-02],\n",
      "       [ -1.33456653e-01,  -9.31134267e-01,   3.39262704e-01,\n",
      "          6.36595314e-03,   1.45668515e-04,   8.65301100e-04,\n",
      "          6.13425841e-03,  -4.37718145e-04],\n",
      "       [  1.27049932e-01,  -9.49343582e-02,  -2.21582666e-01,\n",
      "          6.18554960e-01,  -7.17529682e-01,   1.63562943e-01,\n",
      "         -3.90904919e-02,   2.63032002e-03],\n",
      "       [ -9.61667866e-02,  -3.19400562e-01,  -9.10048303e-01,\n",
      "         -2.13256092e-01,   1.18647628e-01,  -2.18125285e-02,\n",
      "         -2.22268046e-02,  -4.69876868e-03]]))\n"
     ]
    }
   ],
   "source": [
    "print seedcov.trace()\n",
    "print np.linalg.eig(seedcov) #TDB"
   ]
  },
  {
   "cell_type": "markdown",
   "metadata": {},
   "source": [
    "Stacking arrays:"
   ]
  },
  {
   "cell_type": "code",
   "execution_count": 123,
   "metadata": {
    "collapsed": false
   },
   "outputs": [
    {
     "data": {
      "text/plain": [
       "(210L,)"
      ]
     },
     "execution_count": 123,
     "metadata": {},
     "output_type": "execute_result"
    }
   ],
   "source": [
    "ratvec = seeds[:,4] / seeds[:,5]\n",
    "print ratvec.shape"
   ]
  },
  {
   "cell_type": "code",
   "execution_count": 127,
   "metadata": {
    "collapsed": false
   },
   "outputs": [
    {
     "ename": "ValueError",
     "evalue": "all the input array dimensions except for the concatenation axis must match exactly",
     "output_type": "error",
     "traceback": [
      "\u001b[0;31m---------------------------------------------------------------------------\u001b[0m",
      "\u001b[0;31mValueError\u001b[0m                                Traceback (most recent call last)",
      "\u001b[0;32m<ipython-input-127-879c430a10d7>\u001b[0m in \u001b[0;36m<module>\u001b[0;34m()\u001b[0m\n\u001b[0;32m----> 1\u001b[0;31m \u001b[0mnp\u001b[0m\u001b[1;33m.\u001b[0m\u001b[0mvstack\u001b[0m\u001b[1;33m(\u001b[0m\u001b[1;33m(\u001b[0m\u001b[0mseeds\u001b[0m\u001b[1;33m,\u001b[0m\u001b[0mratvec\u001b[0m\u001b[1;33m)\u001b[0m\u001b[1;33m)\u001b[0m\u001b[1;33m\u001b[0m\u001b[0m\n\u001b[0m",
      "\u001b[0;32mc:\\python27\\lib\\site-packages\\numpy\\core\\shape_base.pyc\u001b[0m in \u001b[0;36mvstack\u001b[0;34m(tup)\u001b[0m\n\u001b[1;32m    228\u001b[0m \u001b[1;33m\u001b[0m\u001b[0m\n\u001b[1;32m    229\u001b[0m     \"\"\"\n\u001b[0;32m--> 230\u001b[0;31m     \u001b[1;32mreturn\u001b[0m \u001b[0m_nx\u001b[0m\u001b[1;33m.\u001b[0m\u001b[0mconcatenate\u001b[0m\u001b[1;33m(\u001b[0m\u001b[1;33m[\u001b[0m\u001b[0matleast_2d\u001b[0m\u001b[1;33m(\u001b[0m\u001b[0m_m\u001b[0m\u001b[1;33m)\u001b[0m \u001b[1;32mfor\u001b[0m \u001b[0m_m\u001b[0m \u001b[1;32min\u001b[0m \u001b[0mtup\u001b[0m\u001b[1;33m]\u001b[0m\u001b[1;33m,\u001b[0m \u001b[1;36m0\u001b[0m\u001b[1;33m)\u001b[0m\u001b[1;33m\u001b[0m\u001b[0m\n\u001b[0m\u001b[1;32m    231\u001b[0m \u001b[1;33m\u001b[0m\u001b[0m\n\u001b[1;32m    232\u001b[0m \u001b[1;32mdef\u001b[0m \u001b[0mhstack\u001b[0m\u001b[1;33m(\u001b[0m\u001b[0mtup\u001b[0m\u001b[1;33m)\u001b[0m\u001b[1;33m:\u001b[0m\u001b[1;33m\u001b[0m\u001b[0m\n",
      "\u001b[0;31mValueError\u001b[0m: all the input array dimensions except for the concatenation axis must match exactly"
     ]
    }
   ],
   "source": [
    "np.hstack((seeds,ratvec)) #error"
   ]
  },
  {
   "cell_type": "code",
   "execution_count": 130,
   "metadata": {
    "collapsed": false
   },
   "outputs": [
    {
     "data": {
      "text/plain": [
       "array([[ 15.26      ,  14.84      ,   0.871     , ...,   5.22      ,\n",
       "          1.        ,   1.49122017],\n",
       "       [ 14.88      ,  14.57      ,   0.8811    , ...,   4.956     ,\n",
       "          1.        ,   3.2740668 ],\n",
       "       [ 14.29      ,  14.09      ,   0.905     , ...,   4.825     ,\n",
       "          1.        ,   1.23638385],\n",
       "       ..., \n",
       "       [ 13.2       ,  13.66      ,   0.8883    , ...,   5.056     ,\n",
       "          3.        ,   0.38869513],\n",
       "       [ 11.84      ,  13.21      ,   0.8521    , ...,   5.044     ,\n",
       "          3.        ,   0.78821568],\n",
       "       [ 12.3       ,  13.34      ,   0.8684    , ...,   5.063     ,\n",
       "          3.        ,   0.5275856 ]])"
      ]
     },
     "execution_count": 130,
     "metadata": {},
     "output_type": "execute_result"
    }
   ],
   "source": [
    "ratmat = ratvec.reshape((n,1))\n",
    "np.hstack((seeds,ratmat))"
   ]
  },
  {
   "cell_type": "code",
   "execution_count": 133,
   "metadata": {
    "collapsed": false
   },
   "outputs": [
    {
     "name": "stdout",
     "output_type": "stream",
     "text": [
      "(21L, 8L)\n"
     ]
    },
    {
     "data": {
      "text/plain": [
       "array([[ 15.26  ,  14.84  ,   0.871 , ...,   2.221 ,   5.22  ,   1.    ],\n",
       "       [ 14.88  ,  14.57  ,   0.8811, ...,   1.018 ,   4.956 ,   1.    ],\n",
       "       [ 14.29  ,  14.09  ,   0.905 , ...,   2.699 ,   4.825 ,   1.    ],\n",
       "       ..., \n",
       "       [ 11.41  ,  12.95  ,   0.856 , ...,   4.957 ,   4.825 ,   3.    ],\n",
       "       [ 10.93  ,  12.8   ,   0.839 , ...,   5.398 ,   5.045 ,   3.    ],\n",
       "       [ 12.38  ,  13.44  ,   0.8609, ...,   5.472 ,   5.045 ,   3.    ]])"
      ]
     },
     "execution_count": 133,
     "metadata": {},
     "output_type": "execute_result"
    }
   ],
   "source": [
    "everyten = seeds[0:n:10,:]\n",
    "print everyten.shape\n",
    "np.vstack((seeds,everyten))"
   ]
  },
  {
   "cell_type": "code",
   "execution_count": 13,
   "metadata": {
    "collapsed": false
   },
   "outputs": [
    {
     "name": "stdout",
     "output_type": "stream",
     "text": [
      "[ 0  1  2  3  4  5  6  7  8  9 10 11 12 13 14 15 16 17 18 19]\n",
      "[[ 0  1]\n",
      " [ 2  3]\n",
      " [ 4  5]\n",
      " [ 6  7]\n",
      " [ 8  9]\n",
      " [10 11]\n",
      " [12 13]\n",
      " [14 15]\n",
      " [16 17]\n",
      " [18 19]]\n"
     ]
    }
   ],
   "source": [
    "A = np.arange(20)\n",
    "print(A)\n",
    "B = A\n",
    "B.shape = (10,2)\n",
    "print(A)"
   ]
  },
  {
   "cell_type": "code",
   "execution_count": 135,
   "metadata": {
    "collapsed": false
   },
   "outputs": [
    {
     "data": {
      "text/plain": [
       "(20L,)"
      ]
     },
     "execution_count": 135,
     "metadata": {},
     "output_type": "execute_result"
    }
   ],
   "source": [
    "A = np.arange(20)\n",
    "B = A.copy()\n",
    "A.shape = (10,2)\n",
    "B.shape"
   ]
  },
  {
   "cell_type": "code",
   "execution_count": 162,
   "metadata": {
    "collapsed": false
   },
   "outputs": [
    {
     "name": "stdout",
     "output_type": "stream",
     "text": [
      "[[ 1.  1.  1.  1.]\n",
      " [ 1.  1.  1.  1.]\n",
      " [ 1.  1.  1.  1.]\n",
      " [ 1.  1.  1.  1.]]\n",
      "[[ 0.  0.  0.  0.]\n",
      " [ 0.  0.  0.  0.]\n",
      " [ 0.  0.  0.  0.]\n",
      " [ 0.  0.  0.  0.]]\n",
      "[[ 1.  0.  0.  0.]\n",
      " [ 0.  1.  0.  0.]\n",
      " [ 0.  0.  1.  0.]\n",
      " [ 0.  0.  0.  1.]]\n"
     ]
    }
   ],
   "source": [
    "onesmat = np.ones((4,4))\n",
    "zerosmat = np.zeros((4,4))\n",
    "print onesmat\n",
    "print zerosmat\n",
    "ident = np.eye(4)\n",
    "print ident"
   ]
  },
  {
   "cell_type": "code",
   "execution_count": null,
   "metadata": {
    "collapsed": true
   },
   "outputs": [],
   "source": []
  }
 ],
 "metadata": {
  "anaconda-cloud": {},
  "kernelspec": {
   "display_name": "Python [default]",
   "language": "python",
   "name": "python2"
  },
  "language_info": {
   "codemirror_mode": {
    "name": "ipython",
    "version": 2
   },
   "file_extension": ".py",
   "mimetype": "text/x-python",
   "name": "python",
   "nbconvert_exporter": "python",
   "pygments_lexer": "ipython2",
   "version": "2.7.12"
  }
 },
 "nbformat": 4,
 "nbformat_minor": 1
}
