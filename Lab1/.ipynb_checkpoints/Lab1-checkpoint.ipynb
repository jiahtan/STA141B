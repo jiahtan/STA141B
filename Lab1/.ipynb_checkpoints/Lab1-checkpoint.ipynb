{
 "cells": [
  {
   "cell_type": "markdown",
   "metadata": {},
   "source": [
    "<h1>STA 141B Lab 1 </h1><br>\n",
    "<font size = '4px'>In this lab, I will add comments to a python script I wrote to load data into a PostgreSQL database using a predefined database schema. </font>"
   ]
  },
  {
   "cell_type": "code",
   "execution_count": null,
   "metadata": {
    "collapsed": false
   },
   "outputs": [
    {
     "name": "stdout",
     "output_type": "stream",
     "text": [
      "Collecting psycopg2\n",
      "  Downloading psycopg2-2.6.2.tar.gz (376kB)\n",
      "\u001b[K    100% |████████████████████████████████| 378kB 177kB/s ta 0:00:01\n",
      "\u001b[?25h    Complete output from command python setup.py egg_info:\n",
      "    running egg_info\n",
      "    creating pip-egg-info/psycopg2.egg-info\n",
      "    writing pip-egg-info/psycopg2.egg-info/PKG-INFO\n",
      "    writing top-level names to pip-egg-info/psycopg2.egg-info/top_level.txt\n",
      "    writing dependency_links to pip-egg-info/psycopg2.egg-info/dependency_links.txt\n",
      "    writing manifest file 'pip-egg-info/psycopg2.egg-info/SOURCES.txt'\n",
      "    warning: manifest_maker: standard file '-c' not found\n",
      "    \n",
      "    Error: pg_config executable not found.\n",
      "    \n",
      "    Please add the directory containing pg_config to the PATH\n",
      "    or specify the full executable path with the option:\n",
      "    \n",
      "        python setup.py build_ext --pg-config /path/to/pg_config build ...\n",
      "    \n",
      "    or with the pg_config option in 'setup.cfg'.\n",
      "    \n",
      "    ----------------------------------------\n",
      "\u001b[31mCommand \"python setup.py egg_info\" failed with error code 1 in /tmp/pip-build-_YVuZ2/psycopg2/\u001b[0m\n"
     ]
    }
   ],
   "source": [
    "import psycopg2\n",
    "import os\n",
    "import sys\n",
    "import csv\n",
    "from subprocess import check_output"
   ]
  },
  {
   "cell_type": "markdown",
   "metadata": {},
   "source": [
    "Libraries used and motivation:\n",
    "<ul>\n",
    "<li>The psycopg2 library is used to interact with PostgreSQL from python.</li>\n",
    "<li>The os library is used to capture the environment variable.</li>\n",
    "<li>The sys library is used to end to program upon error. </li>\n",
    "<li>The csv library is used to read in the csv files. </li>\n",
    "<li>The check_output function from subprocess library gets output returned by BASH commands. \n",
    "</ul>"
   ]
  },
  {
   "cell_type": "code",
   "execution_count": 1,
   "metadata": {
    "collapsed": true
   },
   "outputs": [],
   "source": [
    "nhtsfiles = ['HHV2PUB.CSV','PERV2PUB.CSV','VEHV2PUB.CSV', 'DAYV2PUB.CSV']\n",
    "#All the variables with type int in codebook\n",
    "nhtsintvars = ['DRVRCNT', 'HHSIZE', 'HHVEHCNT', 'NUMADLT', 'RESP_CNT', 'VARSTRAT', 'WRKCOUNT', \n",
    "\t\t\t\t'WTHHFIN', 'CARRODE', 'CNTTDTR', 'DELIVER', 'DISTOWK', 'FMSCSIZE', \n",
    "\t\t\t\t'GCDWORK', 'HHVEHCT', 'LSTTRDAY', 'MCUSED', 'NBIKETRP', \n",
    "\t\t\t\t'NWALKTRP', 'PTUSED', 'PURCHASE', 'R_AGE', 'SFWGT', 'TIMETOWK', 'TOSCSIZE', \n",
    "\t\t\t\t'VARSTRAT', 'WKFMHMXX', 'WTPERFIN', 'YEARMILE', 'YRTOUS', \n",
    "\t\t\t\t'ANNMILE', 'BESTMILE', 'EIADMPG', 'EPATMPG', 'FUELTYPE', \n",
    "\t\t\t\t'GSCOST', 'GSTOTCST', 'GSYRGAL', \n",
    "\t\t\t\t'OD_READ', 'VEHAGE', 'VEHOWNMO', 'VEHYEAR', 'WTHHFIN', \n",
    "\t\t\t\t'DWELTIME', 'GASPRICE', 'HH_ONTD', 'NONHHCNT', \n",
    "\t\t\t\t'NUMONTRP', 'R_AGE', 'TRACCTM', 'TREGRTM', 'TRPACCMP', 'TRPHHACC', 'TRPMILES',\n",
    "\t\t\t\t'TRVLCMIN', 'TRVL_MIN', 'TRWAITTM', 'VMT_MILE', 'WTTRDFIN']\n",
    "nhtsfilenames = ['household', 'person', 'vehicle', 'travelday']\n",
    "eiafiles = ['EIA_CO2_Electricity_2015.csv','EIA_CO2_Transportation_2015.csv','EIA_MkWh_2015.csv']\n",
    "eiafilenames = ['electricity', 'transportation', 'mkwh']"
   ]
  },
  {
   "cell_type": "markdown",
   "metadata": {},
   "source": [
    "Create arrays denoting all csv files from the nhts csv and eia csv as well as their variables, so we can loop over these to populate the rows of the database later on. "
   ]
  },
  {
   "cell_type": "code",
   "execution_count": 4,
   "metadata": {
    "collapsed": true
   },
   "outputs": [],
   "source": [
    "def wc(filename):\n",
    "    return int(check_output([\"wc\", \"-l\", filename]).split()[0])\n",
    "\n",
    "def getCreateCmd_nhts(tablename, header): #Program to get the create table command\n",
    "\tallvars = []\n",
    "\tappend = allvars.append\n",
    "\tfor var in header:\n",
    "\t\tif(var in nhtsintvars):\n",
    "\t\t\tappend(var + ' ' +  'integer')\n",
    "\t\telse:\n",
    "\t\t\tappend(var + ' ' + 'varchar(20)')\n",
    "\tcreatecmd = 'CREATE TABLE nhts.%s (%s);' % (tablename, \",\".join(allvars))\n",
    "\treturn createcmd\n",
    "\n",
    "def getInsertCmd_nhts(header):\n",
    "\tstring = []\n",
    "\tappend = string.append\n",
    "\tfor i in range(0,len(header)):\n",
    "\t\tif(header[i] in nhtsintvars):\n",
    "\t\t\tappend(\"float(row[%d])\" % i)\n",
    "\t\telse:\n",
    "\t\t\tappend(\"row[%d]\" % i)\n",
    "\tinsertcmd = \"%s\" % (','.join(string))\n",
    "\treturn insertcmd"
   ]
  },
  {
   "cell_type": "markdown",
   "metadata": {},
   "source": [
    "Functions defined:\n",
    "<ul>\n",
    "<li><b>wc</b> gets the line count of the file.</li>\n",
    "<li><b>getCreatedCmd_nhts</b> generates the SQL command to create the nhts table.</li> \n",
    "<li><b>getInsertCmd_nhts</b> generates the SQL command to insert the columns. \n",
    "</ul>"
   ]
  },
  {
   "cell_type": "code",
   "execution_count": 9,
   "metadata": {
    "collapsed": false
   },
   "outputs": [
    {
     "ename": "NameError",
     "evalue": "name 'psycopg2' is not defined",
     "output_type": "error",
     "traceback": [
      "\u001b[0;31m---------------------------------------------------------------------------\u001b[0m",
      "\u001b[0;31mNameError\u001b[0m                                 Traceback (most recent call last)",
      "\u001b[0;32m<ipython-input-9-62d6136d9437>\u001b[0m in \u001b[0;36m<module>\u001b[0;34m()\u001b[0m\n\u001b[1;32m     74\u001b[0m         \u001b[0mcon\u001b[0m\u001b[0;34m.\u001b[0m\u001b[0mcommit\u001b[0m\u001b[0;34m(\u001b[0m\u001b[0;34m)\u001b[0m\u001b[0;34m\u001b[0m\u001b[0m\n\u001b[1;32m     75\u001b[0m \u001b[0;34m\u001b[0m\u001b[0m\n\u001b[0;32m---> 76\u001b[0;31m \u001b[0;32mexcept\u001b[0m \u001b[0mpsycopg2\u001b[0m\u001b[0;34m.\u001b[0m\u001b[0mDatabaseError\u001b[0m\u001b[0;34m,\u001b[0m \u001b[0me\u001b[0m\u001b[0;34m:\u001b[0m\u001b[0;34m\u001b[0m\u001b[0m\n\u001b[0m\u001b[1;32m     77\u001b[0m         \u001b[0;32mif\u001b[0m \u001b[0mcon\u001b[0m\u001b[0;34m:\u001b[0m\u001b[0;34m\u001b[0m\u001b[0m\n\u001b[1;32m     78\u001b[0m                 \u001b[0mcon\u001b[0m\u001b[0;34m.\u001b[0m\u001b[0mrollback\u001b[0m\u001b[0;34m(\u001b[0m\u001b[0;34m)\u001b[0m\u001b[0;34m\u001b[0m\u001b[0m\n",
      "\u001b[0;31mNameError\u001b[0m: name 'psycopg2' is not defined"
     ]
    }
   ],
   "source": [
    "\n",
    "con = None\n",
    "\n",
    "try:\n",
    "\tcon = psycopg2.connect(database = \"postgres\", user =  os.environ['USER'] )\n",
    "\tcur = con.cursor()\n",
    "\tcur.execute ('CREATE SCHEMA IF NOT EXISTS NHTS;')\n",
    "\n",
    "\t#READ IN NHTS DATA\n",
    "\tfor i in range(0, len(nhtsfiles)):\n",
    "\t\tcsvfile = open('./ecs165a/%s' % nhtsfiles[i],'rb')\n",
    "\t\treader = csv.reader(csvfile)\n",
    "\t\theader = next(reader)\n",
    "\t\tcreatecmd = getCreateCmd_nhts(nhtsfilenames[i],header)\n",
    "\t\tcur.execute(createcmd)\n",
    "\t\tinsertcmdformat = getInsertCmd_nhts(header)\n",
    "\t\tfilewc = wc('./ecs165a/%s' % nhtsfiles[i])\n",
    "\t\trowCount = 0 \n",
    "\t\tTotalCount = 0 #Total rows read\n",
    "\t\tstringroup = []\n",
    "\t\tfor row in reader:\n",
    "\t\t\tt = eval(insertcmdformat)\n",
    "\t\t\tstringroup.append(t)\n",
    "\t\t\trowCount += 1\n",
    "\t\t\tTotalCount += 1\n",
    "\t\t\tif(rowCount == 50000):\n",
    "\t\t\t\tinsertcmd = \"INSERT INTO nhts.%s VALUES %s;\" % (nhtsfilenames[i], str(stringroup).strip('[]'))\n",
    "\t\t\t\tcur.execute(insertcmd)\n",
    "\t\t\t\trowCount = 0\n",
    "\t\t\t\tstringroup = []\n",
    "\n",
    "\t\t\telif ((filewc - 1 == TotalCount) and (filewc - TotalCount - 1) < 50000): \n",
    "\t\t\t\tinsertcmd = \"INSERT INTO nhts.%s VALUES %s;\" % (nhtsfilenames[i], str(stringroup).strip('[]'))\n",
    "\t\t\t\tcur.execute(insertcmd)\n",
    "\n",
    "\t\tprint(\"NHTS file \" + str(i) + \" Done\" + \"TotalCount\" + str(TotalCount))\n",
    "\t\t\t\t\n",
    "\t#READ IN EIA DATA\n",
    "\tcur.execute('CREATE SCHEMA IF NOT EXISTS EIA;')\n",
    "\tfor i in range(0, len(eiafiles)):\n",
    "\t\tcsvfile = open('./ecs165a/%s' % eiafiles[i],'rb')\t\t\n",
    "\t\treader = csv.reader(csvfile)\n",
    "\t\theader = next(reader)\n",
    "\t\tcreatecmd = 'CREATE TABLE eia.%s (%s);' % (eiafilenames[i], 'MSN varchar(100), yyyymm varchar(100), Values varchar(100)')\n",
    "\t\tcur.execute(createcmd)\n",
    "\t\t#insertcmdformat = getInsertCmd_eia(header)\n",
    "\t\tfilewc = wc('./ecs165a/%s' % eiafiles[i])\n",
    "\t\trowCount = 0\n",
    "\t\tTotalCount = 0\n",
    "\t\tstringroup = []\n",
    "\t\tfor row in reader:\n",
    "\t\t\tt = eval('(row[0], row[1], row[2])')\n",
    "\t\t\tstringroup.append(t)\n",
    "\t\t\trowCount += 1\n",
    "\t\t\tTotalCount += 1\n",
    "\t\t\tif(rowCount == 50000):\n",
    "\t\t\t\tinsertcmd = \"INSERT INTO eia.%s VALUES %s;\" % (eiafilenames[i], str(stringroup).strip('[]'))\n",
    "\t\t\t\tcur.execute(insertcmd)\n",
    "\t\t\t\trowCount = 0\n",
    "\t\t\t\tstringroup = []\n",
    "\t\t\telif ((TotalCount == filewc - 1) and (filewc - TotalCount - 1) < 50000): \n",
    "\t\t\t\tinsertcmd = \"INSERT INTO eia.%s VALUES %s;\" % (eiafilenames[i], str(stringroup).strip('[]'))\n",
    "\t\t\t\tcur.execute(insertcmd)\n",
    "\t\tprint(\"EIA file \" + str(i) + \" Done\" + \"TotalCount\" + str(TotalCount))\n",
    "\n",
    "\tcur.execute('ALTER TABLE nhts.household ADD PRIMARY KEY (houseid);')\n",
    "\tcur.execute('ALTER TABLE nhts.person ADD PRIMARY KEY (houseid, personid);')\n",
    "\tcur.execute('ALTER TABLE nhts.vehicle ADD PRIMARY KEY (houseid, vehid);')\n",
    "\tcur.execute('ALTER TABLE nhts.travelday ADD PRIMARY KEY (houseid, personid, tdtrpnum);')\n",
    "\tcur.execute('ALTER TABLE eia.transportation ADD PRIMARY KEY (msn, yyyymm);')\n",
    "\tcur.execute('ALTER TABLE eia.electricity ADD PRIMARY KEY (msn, yyyymm);')\n",
    "\tcur.execute('ALTER TABLE eia.mkwh ADD PRIMARY KEY (msn, yyyymm);')\n",
    "\n",
    "\tcon.commit()\n",
    "\n",
    "except psycopg2.DatabaseError, e:\n",
    "\tif con:\n",
    "\t\tcon.rollback()\n",
    "\tprint 'Error %s' % e    \n",
    "\tsys.exit(1)\n",
    "    \n",
    "    \n",
    "finally:\n",
    "    \n",
    " if con:\n",
    "   \tcon.close()"
   ]
  },
  {
   "cell_type": "markdown",
   "metadata": {},
   "source": [
    "First we set connection to none. Then we try to connect to the postgres database and set a cursor to that connection. If schema for nhts is not define, we will define it. "
   ]
  }
 ],
 "metadata": {
  "anaconda-cloud": {},
  "kernelspec": {
   "display_name": "Python 2",
   "language": "python",
   "name": "python2"
  },
  "language_info": {
   "codemirror_mode": {
    "name": "ipython",
    "version": 2
   },
   "file_extension": ".py",
   "mimetype": "text/x-python",
   "name": "python",
   "nbconvert_exporter": "python",
   "pygments_lexer": "ipython2",
   "version": "2.7.13"
  }
 },
 "nbformat": 4,
 "nbformat_minor": 1
}
