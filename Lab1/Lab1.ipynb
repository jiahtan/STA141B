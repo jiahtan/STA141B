{
 "cells": [
  {
   "cell_type": "markdown",
   "metadata": {},
   "source": [
    "<h1>STA 141B Lab 1 </h1><br>\n",
    "<font size = '4px'>In this lab, I will add comments to a python script I wrote to load data into a PostgreSQL database using a predefined database schema. </font>"
   ]
  },
  {
   "cell_type": "markdown",
   "metadata": {
    "collapsed": false
   },
   "source": [
    "    import psycopg2\n",
    "    import os\n",
    "    import sys\n",
    "    import csv\n",
    "    from subprocess import check_output"
   ]
  },
  {
   "cell_type": "markdown",
   "metadata": {},
   "source": [
    "Libraries used and motivation:\n",
    "<ul>\n",
    "<li>The psycopg2 library is used to interact with PostgreSQL from python.</li>\n",
    "<li>The os library is used to capture the environment variable.</li>\n",
    "<li>The sys library is used to end to program upon error. </li>\n",
    "<li>The csv library is used to read in the csv files. </li>\n",
    "<li>The check_output function from subprocess library gets output returned by BASH commands. \n",
    "</ul>"
   ]
  },
  {
   "cell_type": "markdown",
   "metadata": {
    "collapsed": true
   },
   "source": [
    "    nhtsfiles = ['HHV2PUB.CSV','PERV2PUB.CSV','VEHV2PUB.CSV', 'DAYV2PUB.CSV']\n",
    "    #All the variables with type int in codebook\n",
    "    nhtsintvars = ['DRVRCNT', 'HHSIZE', 'HHVEHCNT', 'NUMADLT', 'RESP_CNT', 'VARSTRAT', 'WRKCOUNT', \n",
    "\t\t\t\t'WTHHFIN', 'CARRODE', 'CNTTDTR', 'DELIVER', 'DISTOWK', 'FMSCSIZE', \n",
    "\t\t\t\t'GCDWORK', 'HHVEHCT', 'LSTTRDAY', 'MCUSED', 'NBIKETRP', \n",
    "\t\t\t\t'NWALKTRP', 'PTUSED', 'PURCHASE', 'R_AGE', 'SFWGT', 'TIMETOWK', 'TOSCSIZE', \n",
    "\t\t\t\t'VARSTRAT', 'WKFMHMXX', 'WTPERFIN', 'YEARMILE', 'YRTOUS', \n",
    "\t\t\t\t'ANNMILE', 'BESTMILE', 'EIADMPG', 'EPATMPG', 'FUELTYPE', \n",
    "\t\t\t\t'GSCOST', 'GSTOTCST', 'GSYRGAL', \n",
    "\t\t\t\t'OD_READ', 'VEHAGE', 'VEHOWNMO', 'VEHYEAR', 'WTHHFIN', \n",
    "\t\t\t\t'DWELTIME', 'GASPRICE', 'HH_ONTD', 'NONHHCNT', \n",
    "\t\t\t\t'NUMONTRP', 'R_AGE', 'TRACCTM', 'TREGRTM', 'TRPACCMP', 'TRPHHACC', 'TRPMILES',\n",
    "\t\t\t\t'TRVLCMIN', 'TRVL_MIN', 'TRWAITTM', 'VMT_MILE', 'WTTRDFIN']\n",
    "    nhtsfilenames = ['household', 'person', 'vehicle', 'travelday']\n",
    "    eiafiles = ['EIA_CO2_Electricity_2015.csv','EIA_CO2_Transportation_2015.csv','EIA_MkWh_2015.csv']\n",
    "    eiafilenames = ['electricity', 'transportation', 'mkwh']"
   ]
  },
  {
   "cell_type": "markdown",
   "metadata": {},
   "source": [
    "Create arrays denoting all csv files from the nhts csv and eia csv as well as their variables, so we can loop over these to populate the rows of the database later on. "
   ]
  },
  {
   "cell_type": "markdown",
   "metadata": {
    "collapsed": true
   },
   "source": [
    "    def wc(filename):\n",
    "        return int(check_output([\"wc\", \"-l\", filename]).split()[0])\n",
    "\n",
    "    def getCreateCmd_nhts(tablename, header): #Program to get the create table command\n",
    "        allvars = []\n",
    "        append = allvars.append\n",
    "        for var in header:\n",
    "            if(var in nhtsintvars):\n",
    "                append(var + ' ' +  'integer')\n",
    "            else:\n",
    "                append(var + ' ' + 'varchar(20)')\n",
    "        createcmd = 'CREATE TABLE nhts.%s (%s);' % (tablename, \",\".join(allvars))\n",
    "        return createcmd\n",
    "\n",
    "    def getInsertCmd_nhts(header):\n",
    "        string = []\n",
    "        append = string.append\n",
    "        for i in range(0,len(header)):\n",
    "            if(header[i] in nhtsintvars):\n",
    "                append(\"float(row[%d])\" % i)\n",
    "            else:\n",
    "                append(\"row[%d]\" % i)\n",
    "        insertcmd = \"%s\" % (','.join(string))\n",
    "        return insertcmd"
   ]
  },
  {
   "cell_type": "markdown",
   "metadata": {},
   "source": [
    "Functions defined:\n",
    "<ul>\n",
    "<li><b>wc</b> gets the line count of the file.</li>\n",
    "<li><b>getCreatedCmd_nhts</b> generates the SQL command to create the nhts table.</li> \n",
    "<li><b>getInsertCmd_nhts</b> generates the SQL command to insert the columns. \n",
    "</ul>"
   ]
  },
  {
   "cell_type": "markdown",
   "metadata": {
    "collapsed": true
   },
   "source": [
    "\n",
    "    con = None\n",
    "\n",
    "    try:\n",
    "        con = psycopg2.connect(database = \"postgres\", user =  os.environ['USER'] )\n",
    "        cur = con.cursor()\n",
    "        cur.execute ('CREATE SCHEMA IF NOT EXISTS NHTS;')\n",
    "\n",
    "        #READ IN NHTS DATA\n",
    "        for i in range(0, len(nhtsfiles)):\n",
    "            csvfile = open('./ecs165a/%s' % nhtsfiles[i],'rb')\n",
    "            reader = csv.reader(csvfile)\n",
    "            header = next(reader)\n",
    "            createcmd = getCreateCmd_nhts(nhtsfilenames[i],header)\n",
    "            cur.execute(createcmd)\n",
    "            insertcmdformat = getInsertCmd_nhts(header)\n",
    "            filewc = wc('./ecs165a/%s' % nhtsfiles[i])\n",
    "            rowCount = 0 \n",
    "            TotalCount = 0 #Total rows read\n",
    "            stringroup = []\n",
    "            for row in reader:\n",
    "                t = eval(insertcmdformat)\n",
    "                stringroup.append(t)\n",
    "                rowCount += 1\n",
    "                TotalCount += 1\n",
    "                if(rowCount == 50000):\n",
    "                    insertcmd = \"INSERT INTO nhts.%s VALUES %s;\" % (nhtsfilenames[i], str(stringroup).strip('[]'))\n",
    "                    cur.execute(insertcmd)\n",
    "                    rowCount = 0\n",
    "                    stringroup = []\n",
    "\n",
    "                elif ((filewc - 1 == TotalCount) and (filewc - TotalCount - 1) < 50000): \n",
    "                    insertcmd = \"INSERT INTO nhts.%s VALUES %s;\" % (nhtsfilenames[i], str(stringroup).strip('[]'))\n",
    "                    cur.execute(insertcmd)\n",
    "\n",
    "            print(\"NHTS file \" + str(i) + \" Done\" + \"TotalCount\" + str(TotalCount))\n",
    "\n",
    "        #READ IN EIA DATA\n",
    "        cur.execute('CREATE SCHEMA IF NOT EXISTS EIA;')\n",
    "        for i in range(0, len(eiafiles)):\n",
    "            csvfile = open('./ecs165a/%s' % eiafiles[i],'rb')\t\t\n",
    "            reader = csv.reader(csvfile)\n",
    "            header = next(reader)\n",
    "            createcmd = 'CREATE TABLE eia.%s (%s);' % (eiafilenames[i], 'MSN varchar(100), yyyymm varchar(100), Values varchar(100)')\n",
    "            cur.execute(createcmd)\n",
    "            #insertcmdformat = getInsertCmd_eia(header)\n",
    "            filewc = wc('./ecs165a/%s' % eiafiles[i])\n",
    "            rowCount = 0\n",
    "            TotalCount = 0\n",
    "            stringroup = []\n",
    "            for row in reader:\n",
    "                t = eval('(row[0], row[1], row[2])')\n",
    "                stringroup.append(t)\n",
    "                rowCount += 1\n",
    "                TotalCount += 1\n",
    "                if(rowCount == 50000):\n",
    "                    insertcmd = \"INSERT INTO eia.%s VALUES %s;\" % (eiafilenames[i], str(stringroup).strip('[]'))\n",
    "                    cur.execute(insertcmd)\n",
    "                    rowCount = 0\n",
    "                    stringroup = []\n",
    "                elif ((TotalCount == filewc - 1) and (filewc - TotalCount - 1) < 50000): \n",
    "                    insertcmd = \"INSERT INTO eia.%s VALUES %s;\" % (eiafilenames[i], str(stringroup).strip('[]'))\n",
    "                    cur.execute(insertcmd)\n",
    "            print(\"EIA file \" + str(i) + \" Done\" + \"TotalCount\" + str(TotalCount))\n",
    "\n",
    "        cur.execute('ALTER TABLE nhts.household ADD PRIMARY KEY (houseid);')\n",
    "        cur.execute('ALTER TABLE nhts.person ADD PRIMARY KEY (houseid, personid);')\n",
    "        cur.execute('ALTER TABLE nhts.vehicle ADD PRIMARY KEY (houseid, vehid);')\n",
    "        cur.execute('ALTER TABLE nhts.travelday ADD PRIMARY KEY (houseid, personid, tdtrpnum);')\n",
    "        cur.execute('ALTER TABLE eia.transportation ADD PRIMARY KEY (msn, yyyymm);')\n",
    "        cur.execute('ALTER TABLE eia.electricity ADD PRIMARY KEY (msn, yyyymm);')\n",
    "        cur.execute('ALTER TABLE eia.mkwh ADD PRIMARY KEY (msn, yyyymm);')\n",
    "\n",
    "        con.commit()\n",
    "\n",
    "    except psycopg2.DatabaseError, e:\n",
    "        if con:\n",
    "            con.rollback()\n",
    "        print 'Error %s' % e    \n",
    "        sys.exit(1)\n",
    "\n",
    "\n",
    "    finally:    \n",
    "     if con:\n",
    "        con.close()"
   ]
  },
  {
   "cell_type": "markdown",
   "metadata": {},
   "source": [
    "First we set connection to none. Then we try to connect to the postgresql database and set a cursor to that connection. If schema for nhts is not define, we will define it. \n",
    "<br>\n",
    "In the first for loop, we looped through all the nhts file in the directory. We inserted the rows at 50,000 intervals just to keep track of the progress and when an error occurs, we know the ballpark of the line that caused the problem.\n",
    "<br>\n",
    "The second for loop does the same thing as the first for loop but for the eia data files instead. Given that the eia file format follow a fixed structure, we can declare the create table and insert command in the loop instead of making functions to create different commands for different files. \n",
    "<br>\n",
    "The last couple lines of identify the primary keys of each data table. "
   ]
  }
 ],
 "metadata": {
  "anaconda-cloud": {},
  "kernelspec": {
   "display_name": "Python [default]",
   "language": "python",
   "name": "python2"
  },
  "language_info": {
   "codemirror_mode": {
    "name": "ipython",
    "version": 2
   },
   "file_extension": ".py",
   "mimetype": "text/x-python",
   "name": "python",
   "nbconvert_exporter": "python",
   "pygments_lexer": "ipython2",
   "version": "2.7.12"
  }
 },
 "nbformat": 4,
 "nbformat_minor": 1
}
