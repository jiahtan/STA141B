{
 "cells": [
  {
   "cell_type": "markdown",
   "metadata": {},
   "source": [
    "Lesson 1 Workflow Code Annotation"
   ]
  },
  {
   "cell_type": "code",
   "execution_count": 3,
   "metadata": {
    "collapsed": false
   },
   "outputs": [
    {
     "name": "stdout",
     "output_type": "stream",
     "text": [
      "STRING\n",
      "71\n",
      "H\n",
      "19\n",
      "16\n",
      "0\n",
      "1\n",
      "3\n",
      "6\n",
      "0\n",
      "1\n",
      "3\n",
      "6\n",
      "10\n"
     ]
    }
   ],
   "source": [
    "## Paste the consecutive lines into one cell; the blank line means new cell.\n",
    "## In Python, whitespace has meaning, so make sure you include the tabs and newlines\n",
    "\n",
    "S = \"STRING\"\n",
    "print (S[0:6])\n",
    "\n",
    "ci = ord(S[5])\n",
    "print (ci)\n",
    "print (chr(ci + 1))\n",
    "\n",
    "Y = list([0,2,6,3,1,7])\n",
    "print (sum(Y))\n",
    "\n",
    "Y[3] = 0\n",
    "print (sum(Y))\n",
    "\n",
    "cumsum = 0\n",
    "for i in range(4):\n",
    "    cumsum += i\n",
    "    print (cumsum)\n",
    "\n",
    "cumsum = 0\n",
    "R = iter(range(5))\n",
    "while True:\n",
    "    try:\n",
    "        i = next(R)\n",
    "        cumsum += i\n",
    "        print(cumsum)\n",
    "    except StopIteration:\n",
    "        break"
   ]
  },
  {
   "cell_type": "code",
   "execution_count": null,
   "metadata": {
    "collapsed": true
   },
   "outputs": [],
   "source": []
  }
 ],
 "metadata": {
  "anaconda-cloud": {},
  "kernelspec": {
   "display_name": "Python [conda root]",
   "language": "python",
   "name": "conda-root-py"
  },
  "language_info": {
   "codemirror_mode": {
    "name": "ipython",
    "version": 3
   },
   "file_extension": ".py",
   "mimetype": "text/x-python",
   "name": "python",
   "nbconvert_exporter": "python",
   "pygments_lexer": "ipython3",
   "version": "3.5.2"
  }
 },
 "nbformat": 4,
 "nbformat_minor": 1
}
